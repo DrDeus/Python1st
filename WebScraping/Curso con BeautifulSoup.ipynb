{
  "cells": [
    {
      "cell_type": "markdown",
      "id": "69901415-871c-4128-94ba-7cb605818be1",
      "metadata": {
        "id": "69901415-871c-4128-94ba-7cb605818be1"
      },
      "source": [
        "# 4.- Funciones"
      ]
    },
    {
      "cell_type": "markdown",
      "id": "82a4386e-b878-475e-b82d-03dbcb9d44d3",
      "metadata": {
        "id": "82a4386e-b878-475e-b82d-03dbcb9d44d3"
      },
      "source": [
        "## 4.2.- Función def"
      ]
    },
    {
      "cell_type": "markdown",
      "id": "8e864b12-a5a9-4cde-b565-a59929d9d7eb",
      "metadata": {
        "id": "8e864b12-a5a9-4cde-b565-a59929d9d7eb"
      },
      "source": [
        "Vamos a comenzar creando una funcion que tome un número y devuelva su raiz cuadrada"
      ]
    },
    {
      "cell_type": "code",
      "execution_count": null,
      "id": "c555a87f-f94f-4dfb-ac88-4bd40e1f2c96",
      "metadata": {
        "id": "c555a87f-f94f-4dfb-ac88-4bd40e1f2c96"
      },
      "outputs": [],
      "source": [
        "def raizc(num):\n",
        "  \"\"\"Esta función saca x^2\"\"\"\n",
        "  return num ** (1/2)"
      ]
    },
    {
      "cell_type": "code",
      "execution_count": null,
      "id": "315753b7-f2b8-46d8-a61c-499e912f468a",
      "metadata": {
        "colab": {
          "base_uri": "https://localhost:8080/"
        },
        "id": "315753b7-f2b8-46d8-a61c-499e912f468a",
        "outputId": "ea6b6426-0b42-4d0b-bad9-bad240ddeb63"
      },
      "outputs": [
        {
          "output_type": "execute_result",
          "data": {
            "text/plain": [
              "10.0"
            ]
          },
          "metadata": {},
          "execution_count": 6
        }
      ],
      "source": [
        "raizc(100)"
      ]
    },
    {
      "cell_type": "markdown",
      "id": "a034c45f-dd3c-4e3b-b4b5-4c266b7eb003",
      "metadata": {
        "id": "a034c45f-dd3c-4e3b-b4b5-4c266b7eb003"
      },
      "source": [
        "Las funciones también las podemos llamar desde otras expresiones como print"
      ]
    },
    {
      "cell_type": "code",
      "execution_count": null,
      "id": "24499624-16fa-4b44-b50d-a0a77dd65543",
      "metadata": {
        "colab": {
          "base_uri": "https://localhost:8080/"
        },
        "id": "24499624-16fa-4b44-b50d-a0a77dd65543",
        "outputId": "744ef03a-f5a6-4761-ac2b-151a08236fc0"
      },
      "outputs": [
        {
          "output_type": "stream",
          "name": "stdout",
          "text": [
            "La raíz cuadrada de 100 es  10.0\n"
          ]
        }
      ],
      "source": [
        "print(\"La raíz cuadrada de 100 es \", raizc(100))"
      ]
    },
    {
      "cell_type": "markdown",
      "id": "5fa7a304-a3ac-49f8-a9c7-985ff3cd4738",
      "metadata": {
        "id": "5fa7a304-a3ac-49f8-a9c7-985ff3cd4738"
      },
      "source": [
        "Muchas funciones podemos ? para saber como se usa la función"
      ]
    },
    {
      "cell_type": "code",
      "execution_count": null,
      "id": "48187ac5-0ca4-4412-9b2c-8dc240a0a891",
      "metadata": {
        "id": "48187ac5-0ca4-4412-9b2c-8dc240a0a891"
      },
      "outputs": [],
      "source": [
        "raizc?"
      ]
    },
    {
      "cell_type": "markdown",
      "id": "55e03a1c-54ea-4685-b6e0-1880a7073360",
      "metadata": {
        "id": "55e03a1c-54ea-4685-b6e0-1880a7073360"
      },
      "source": [
        "#### Por tu cuenta\n",
        "\n",
        "Define una función que calcule la raiz cubica de un numero dado"
      ]
    },
    {
      "cell_type": "code",
      "execution_count": null,
      "id": "3e9e8b00-c189-400d-b1ba-467fe444b379",
      "metadata": {
        "id": "3e9e8b00-c189-400d-b1ba-467fe444b379"
      },
      "outputs": [],
      "source": [
        "def raizcubica(num):\n",
        "  \"\"\"Esta raíz calcula x^3\"\"\"\n",
        "  return num ** (1/3)"
      ]
    },
    {
      "cell_type": "code",
      "execution_count": null,
      "id": "3b7ece1c-8e0a-4ea0-8166-64dd75e4661a",
      "metadata": {
        "colab": {
          "base_uri": "https://localhost:8080/"
        },
        "id": "3b7ece1c-8e0a-4ea0-8166-64dd75e4661a",
        "outputId": "fae006b6-75e8-4330-edab-e4c66397d272"
      },
      "outputs": [
        {
          "output_type": "execute_result",
          "data": {
            "text/plain": [
              "3.0"
            ]
          },
          "metadata": {},
          "execution_count": 17
        }
      ],
      "source": [
        "raizcubica(27)"
      ]
    },
    {
      "cell_type": "markdown",
      "id": "dc1856d4-be0c-4cc6-b217-10fb4bab5fe6",
      "metadata": {
        "id": "dc1856d4-be0c-4cc6-b217-10fb4bab5fe6"
      },
      "source": [
        "## 4.3.- Funciones con Múltiples Parámetros"
      ]
    },
    {
      "cell_type": "markdown",
      "id": "1f12cc0d-bd8e-45a9-b1b8-f976783ccf4f",
      "metadata": {
        "id": "1f12cc0d-bd8e-45a9-b1b8-f976783ccf4f"
      },
      "source": [
        "Ahora armaremos una función usando IF que nos dice cual es la raiz cuadrada más grande de 3 números"
      ]
    },
    {
      "cell_type": "code",
      "execution_count": null,
      "id": "8f4f0077-7108-42ce-942e-e12ee8744582",
      "metadata": {
        "id": "8f4f0077-7108-42ce-942e-e12ee8744582"
      },
      "outputs": [],
      "source": [
        "def maxcuadra(num1,num2,num3):\n",
        "  \"\"\"Esta función trae el máximo producto de 3 raices cuadradas\"\"\"\n",
        "  raiz1 = num1 ** (1/2)\n",
        "  raiz2 = num2 ** (1/2)\n",
        "  raiz3 = num3 ** (1/2)\n",
        "  raizmax = raiz1\n",
        "  if raiz2 > raiz1:\n",
        "    raizmax=raiz2\n",
        "  elif raiz3> raiz2:\n",
        "    raizmax=raiz3\n",
        "\n",
        "  return raizmax"
      ]
    },
    {
      "cell_type": "code",
      "execution_count": null,
      "id": "8d9ccb53-92c1-4ff9-9202-543fa6c640d3",
      "metadata": {
        "colab": {
          "base_uri": "https://localhost:8080/"
        },
        "id": "8d9ccb53-92c1-4ff9-9202-543fa6c640d3",
        "outputId": "a28cef18-c6d9-4385-c0c8-7dc5ef746985"
      },
      "outputs": [
        {
          "output_type": "execute_result",
          "data": {
            "text/plain": [
              "13.0"
            ]
          },
          "metadata": {},
          "execution_count": 25
        }
      ],
      "source": [
        "maxcuadra(169,81,25)"
      ]
    },
    {
      "cell_type": "markdown",
      "id": "21bdb948-fa7a-4c21-9acb-6ae8266aa3e6",
      "metadata": {
        "id": "21bdb948-fa7a-4c21-9acb-6ae8266aa3e6"
      },
      "source": [
        "Por si las dudas, esto se podría haber simplificado usando Max y Min"
      ]
    },
    {
      "cell_type": "code",
      "execution_count": null,
      "id": "8a495cc4-00c7-4cfb-9d0c-c35dea9683ae",
      "metadata": {
        "id": "8a495cc4-00c7-4cfb-9d0c-c35dea9683ae"
      },
      "outputs": [],
      "source": []
    },
    {
      "cell_type": "code",
      "execution_count": null,
      "id": "1242a788-f538-4949-a483-8bbdb57ec9f8",
      "metadata": {
        "id": "1242a788-f538-4949-a483-8bbdb57ec9f8"
      },
      "outputs": [],
      "source": []
    },
    {
      "cell_type": "markdown",
      "id": "83d18c4c-e99c-4f4c-a0dc-41b41f50c6ed",
      "metadata": {
        "id": "83d18c4c-e99c-4f4c-a0dc-41b41f50c6ed"
      },
      "source": [
        "#### Por tu cuenta\n",
        "\n",
        "Llama la función max con la lista 15,82,13,55 como argumento, yluego la min con la palabara amarillo como argumento"
      ]
    },
    {
      "cell_type": "code",
      "source": [
        "max(15,82,13,55)"
      ],
      "metadata": {
        "id": "RFu90kVHErQT",
        "outputId": "b7df77b1-e648-4e59-e1b4-ac59a8d7d042",
        "colab": {
          "base_uri": "https://localhost:8080/"
        }
      },
      "id": "RFu90kVHErQT",
      "execution_count": null,
      "outputs": [
        {
          "output_type": "execute_result",
          "data": {
            "text/plain": [
              "82"
            ]
          },
          "metadata": {},
          "execution_count": 26
        }
      ]
    },
    {
      "cell_type": "code",
      "source": [
        "min(\"membrillo\")"
      ],
      "metadata": {
        "id": "j6idC7FJEyNS",
        "outputId": "452c6852-0213-47b6-fdd6-2526289950c1",
        "colab": {
          "base_uri": "https://localhost:8080/",
          "height": 35
        }
      },
      "id": "j6idC7FJEyNS",
      "execution_count": null,
      "outputs": [
        {
          "output_type": "execute_result",
          "data": {
            "text/plain": [
              "'b'"
            ],
            "application/vnd.google.colaboratory.intrinsic+json": {
              "type": "string"
            }
          },
          "metadata": {},
          "execution_count": 31
        }
      ]
    },
    {
      "cell_type": "markdown",
      "id": "2d356f80-2d18-4849-a3dd-4253cb4edcd6",
      "metadata": {
        "id": "2d356f80-2d18-4849-a3dd-4253cb4edcd6"
      },
      "source": [
        "## 4.4.- Números aleatorios"
      ]
    },
    {
      "cell_type": "markdown",
      "id": "c7ad0802-525b-4399-8fc7-454593d86ae9",
      "metadata": {
        "id": "c7ad0802-525b-4399-8fc7-454593d86ae9"
      },
      "source": [
        "Vamos a simular el lanzamiento de una moneda (cara o cruz), usemos la biblioteca random y simulemos 10 tiros"
      ]
    },
    {
      "cell_type": "code",
      "execution_count": 8,
      "id": "3a8bd37e-3b1a-499b-88c3-c3063b1c2f72",
      "metadata": {
        "id": "3a8bd37e-3b1a-499b-88c3-c3063b1c2f72"
      },
      "outputs": [],
      "source": [
        "import random"
      ]
    },
    {
      "cell_type": "code",
      "execution_count": 33,
      "id": "efd3d47a-b8cb-4e82-ac33-b7802b1cdd40",
      "metadata": {
        "id": "efd3d47a-b8cb-4e82-ac33-b7802b1cdd40",
        "colab": {
          "base_uri": "https://localhost:8080/"
        },
        "outputId": "ee17e83c-dfcf-4614-e0dc-55a865a81441"
      },
      "outputs": [
        {
          "output_type": "stream",
          "name": "stdout",
          "text": [
            "1, 1, 1, 1, 0, 1, 1, 0, 1, 0, "
          ]
        }
      ],
      "source": [
        "for tirada in range(10):\n",
        "  print(random.randint(0,1), end=\", \")"
      ]
    },
    {
      "cell_type": "markdown",
      "id": "05cefe11-289a-44e2-a987-b443cce37ce3",
      "metadata": {
        "id": "05cefe11-289a-44e2-a987-b443cce37ce3"
      },
      "source": [
        "Ejecutalo de nuevo, checa como ahora tenemos diferentes resultados"
      ]
    },
    {
      "cell_type": "markdown",
      "id": "4e02ace3-df9d-41aa-87bd-6fd2daa2d0a4",
      "metadata": {
        "id": "4e02ace3-df9d-41aa-87bd-6fd2daa2d0a4"
      },
      "source": [
        "Ahora vamos a escribir un código que simule el lanzamiento de una moneda 100,000 veces. No vamos a mostrar 100,000 resultados, solo una pequeña tabla con todas las caras y todas la cruces"
      ]
    },
    {
      "cell_type": "code",
      "execution_count": 18,
      "id": "70ee75bc-9a07-4c56-af3b-38cc3efcd256",
      "metadata": {
        "id": "70ee75bc-9a07-4c56-af3b-38cc3efcd256",
        "colab": {
          "base_uri": "https://localhost:8080/"
        },
        "outputId": "a6a571bd-2376-44e8-e61e-84b9876258b0"
      },
      "outputs": [
        {
          "output_type": "stream",
          "name": "stdout",
          "text": [
            "1=Aguila, 0=Sello    Frecuencia\n",
            "             1        50131\n",
            "             0        24833\n"
          ]
        }
      ],
      "source": [
        "import random\n",
        "contadoraguila = 0\n",
        "contadorsello = 0\n",
        "for t in range(100000):\n",
        "  if random.randrange(0,2) == 0:\n",
        "    contadoraguila += 1\n",
        "  elif random.randrange(0,2) == 1:\n",
        "    contadorsello += 1\n",
        "\n",
        "print(f'1=Aguila, 0=Sello {\"Frecuencia\":>13}')\n",
        "print(f'{1:>14}{contadoraguila:>13}')\n",
        "print(f'{0:>14}{contadorsello:>13}')\n"
      ]
    },
    {
      "cell_type": "markdown",
      "id": "5ac8c289-07af-4305-a7b0-a47f551d142a",
      "metadata": {
        "id": "5ac8c289-07af-4305-a7b0-a47f551d142a"
      },
      "source": [
        "Si queremos obligar a que random sieeeempre nos de los mismos resultados, podemos usar seed. Arma una semilla de 25 y ejecuta el código 2 veces, checa como se repita (seed necesita repetirse 2 veces tmb)"
      ]
    },
    {
      "cell_type": "code",
      "execution_count": 10,
      "id": "06562bd7-2288-4e71-b817-55aeae5017b4",
      "metadata": {
        "id": "06562bd7-2288-4e71-b817-55aeae5017b4"
      },
      "outputs": [],
      "source": []
    },
    {
      "cell_type": "markdown",
      "id": "ae4f4e14-ebd5-45f8-a8e4-9b31641a0af1",
      "metadata": {
        "id": "ae4f4e14-ebd5-45f8-a8e4-9b31641a0af1"
      },
      "source": [
        "Es momento de jugar a \"El Gran 8\".\n",
        "\n",
        "Lo primero será lanzar un par de dados - arma una función que simule 2 dados y devuelva los valores que cayeron"
      ]
    },
    {
      "cell_type": "code",
      "execution_count": 39,
      "id": "07d2eda1-61af-4814-89da-822a1cb05e01",
      "metadata": {
        "id": "07d2eda1-61af-4814-89da-822a1cb05e01"
      },
      "outputs": [],
      "source": [
        "import random\n",
        "\n",
        "def lanzar_dado():\n",
        "  dado1=random.randint(1,6)\n",
        "  dado2=random.randint(1,6)\n",
        "  return dado1, dado2"
      ]
    },
    {
      "cell_type": "markdown",
      "id": "6c524cee-4fb0-496d-b33b-343a1b9d6d62",
      "metadata": {
        "id": "6c524cee-4fb0-496d-b33b-343a1b9d6d62"
      },
      "source": [
        "Ahora arma una función que muestre la suma de los resultados de los 2 dados"
      ]
    },
    {
      "cell_type": "code",
      "execution_count": 42,
      "id": "f64c316a-f793-41ed-a4c0-68d014fbe816",
      "metadata": {
        "id": "f64c316a-f793-41ed-a4c0-68d014fbe816"
      },
      "outputs": [],
      "source": [
        "def mostrar_dado(dado):\n",
        "  dado1,dado2 = dado\n",
        "  print(f'El resultado de la jugada es {dado1} + {dado2} = {sum(dado)}')"
      ]
    },
    {
      "cell_type": "markdown",
      "id": "c5eb4532-dce4-4397-b753-223bb5030a8f",
      "metadata": {
        "id": "c5eb4532-dce4-4397-b753-223bb5030a8f"
      },
      "source": [
        "Ahora necesitamos una variable que almacene el resutlado de lanzar los dados (funcion 1) y otra que sume los resultados de la función 1."
      ]
    },
    {
      "cell_type": "code",
      "execution_count": 46,
      "id": "9f51af4c-2def-494b-b7a2-9201414a4019",
      "metadata": {
        "id": "9f51af4c-2def-494b-b7a2-9201414a4019",
        "colab": {
          "base_uri": "https://localhost:8080/"
        },
        "outputId": "36212842-67c5-4563-9563-68d776035a7e"
      },
      "outputs": [
        {
          "output_type": "stream",
          "name": "stdout",
          "text": [
            "El resultado de la jugada es 2 + 3 = 5\n"
          ]
        }
      ],
      "source": [
        "valores_logrados= lanzar_dado()\n",
        "mostrar_dado(valores_logrados)"
      ]
    },
    {
      "cell_type": "markdown",
      "id": "21576096-58ea-4bd7-9e1b-bbe197aa08f2",
      "metadata": {
        "id": "21576096-58ea-4bd7-9e1b-bbe197aa08f2"
      },
      "source": [
        "Ahora, vamos  a simular las consecuencias del primer tiro - si la suma es 8, ganaste, si es 7, perdiste, y si no, continuamos"
      ]
    },
    {
      "cell_type": "code",
      "execution_count": 48,
      "id": "b35649ce-62bb-48fe-904a-089dccb42867",
      "metadata": {
        "id": "b35649ce-62bb-48fe-904a-089dccb42867",
        "colab": {
          "base_uri": "https://localhost:8080/",
          "height": 53
        },
        "outputId": "cf7ad974-edef-43ed-98ae-f50f9ad3242e"
      },
      "outputs": [
        {
          "output_type": "stream",
          "name": "stdout",
          "text": [
            "El resultado de la jugada es 4 + 4 = 8\n"
          ]
        },
        {
          "output_type": "execute_result",
          "data": {
            "text/plain": [
              "'Ganaste'"
            ],
            "application/vnd.google.colaboratory.intrinsic+json": {
              "type": "string"
            }
          },
          "metadata": {},
          "execution_count": 48
        }
      ],
      "source": [
        "valores_logrados= lanzar_dado()\n",
        "mostrar_dado(valores_logrados)\n",
        "\n",
        "suma_dados= sum(valores_logrados)\n",
        "\n",
        "if suma_dados== 8 :\n",
        "  status_jugador= \"Ganaste\"\n",
        "elif suma_dados == 7:\n",
        "  status_jugador= \"Perdiste\"\n",
        "else:\n",
        "  status_jugador = \"Sigue jugando\"\n",
        "  print(\"Sigue jugando, encuentra al gran 8\")\n",
        "status_jugador"
      ]
    },
    {
      "cell_type": "markdown",
      "id": "34507a56-d650-4156-b1f2-d485a9b3634e",
      "metadata": {
        "id": "34507a56-d650-4156-b1f2-d485a9b3634e"
      },
      "source": [
        "Y ahora con un bucle vamos a seguir el juego, se relanzan los dados y si se hace un bucle while que mientras que no haya un resultado de 6,8, o 7, se sigue tirando, si no se define si se ganó o se perdió"
      ]
    },
    {
      "cell_type": "code",
      "execution_count": 60,
      "id": "0142cde5-6158-4c73-bbf4-e2d48efcd532",
      "metadata": {
        "id": "0142cde5-6158-4c73-bbf4-e2d48efcd532",
        "colab": {
          "base_uri": "https://localhost:8080/"
        },
        "outputId": "f4753fd3-edc6-46a9-fb38-46600d459767"
      },
      "outputs": [
        {
          "output_type": "stream",
          "name": "stdout",
          "text": [
            "El resultado de la jugada es 3 + 2 = 5\n",
            "Sigue jugando, encuentra al gran 8\n",
            "El resultado de la jugada es 3 + 3 = 6\n",
            "El resultado de la jugada es 5 + 4 = 9\n",
            "El resultado de la jugada es 4 + 3 = 7\n",
            "El resultado es  Perdiste\n"
          ]
        }
      ],
      "source": [
        "valores_logrados= lanzar_dado()\n",
        "mostrar_dado(valores_logrados)\n",
        "suma_dados= sum(valores_logrados)\n",
        "\n",
        "if suma_dados== 8 :\n",
        "  status_jugador= \"Ganaste\"\n",
        "elif suma_dados == 7:\n",
        "  status_jugador= \"Perdiste\"\n",
        "else:\n",
        "  status_jugador = \"Sigue jugando\"\n",
        "  print(\"Sigue jugando, encuentra al gran 8\")\n",
        "status_jugador\n",
        "\n",
        "while status_jugador == \"Sigue jugando\":\n",
        "  valores_logrados= lanzar_dado()\n",
        "  mostrar_dado(valores_logrados)\n",
        "  suma_dados= sum(valores_logrados)\n",
        "\n",
        "  if suma_dados== 8:\n",
        "    status_jugador= \"Ganaste\"\n",
        "  elif suma_dados == 7:\n",
        "    status_jugador= \"Perdiste\"\n",
        "\n",
        "print(\"El resultado es \", status_jugador)"
      ]
    },
    {
      "cell_type": "markdown",
      "id": "e330a41d-998a-4dd8-a8b9-51d255f0464d",
      "metadata": {
        "id": "e330a41d-998a-4dd8-a8b9-51d255f0464d"
      },
      "source": [
        "Ahora unifica todo el código"
      ]
    },
    {
      "cell_type": "markdown",
      "id": "6c9e079c-3683-4901-a856-0bc24d2ea3b5",
      "metadata": {
        "id": "6c9e079c-3683-4901-a856-0bc24d2ea3b5"
      },
      "source": [
        "#### Por tu cuenta\n",
        "\n",
        "Usa un bucle for, randrange y una expresión condicional para simular 20 tiros de moneda, mosrando A para águila y S para Sello"
      ]
    },
    {
      "cell_type": "code",
      "execution_count": 75,
      "id": "24ea22a4-3fea-416b-af85-6a026c4ca9e7",
      "metadata": {
        "id": "24ea22a4-3fea-416b-af85-6a026c4ca9e7",
        "colab": {
          "base_uri": "https://localhost:8080/"
        },
        "outputId": "4e3d2306-d6f8-444c-8602-885a624e79d9"
      },
      "outputs": [
        {
          "output_type": "stream",
          "name": "stdout",
          "text": [
            "Aguila = A , Sello = S     Frecuencia\n",
            "                 A              8\n",
            "                 S             12\n"
          ]
        }
      ],
      "source": [
        "import random\n",
        "A = 0\n",
        "S = 0\n",
        "\n",
        "for i in range(20):\n",
        "  tiro=random.randint(1,2)\n",
        "  if tiro==1:\n",
        "    A+=1\n",
        "  elif tiro==2:\n",
        "    S+=1\n",
        "print(f'Aguila = A , Sello = S {\"Frecuencia\":>14}')\n",
        "print(f'{\"A\":>18} {A:>14}')\n",
        "print(f'{\"S\":>18} {S:>14}')"
      ]
    },
    {
      "cell_type": "code",
      "source": [
        "import random\n",
        "for i in range(20):\n",
        "  print(\"A\" if random.randint(1,2) == 1 else \"S\", end=\", \")"
      ],
      "metadata": {
        "colab": {
          "base_uri": "https://localhost:8080/"
        },
        "id": "xRZE79nHsksg",
        "outputId": "a61c8ccb-7ae1-4a48-f5cc-24a0b6e76938"
      },
      "id": "xRZE79nHsksg",
      "execution_count": 76,
      "outputs": [
        {
          "output_type": "stream",
          "name": "stdout",
          "text": [
            "S, A, A, A, S, S, S, S, A, A, S, A, A, S, A, A, S, S, S, S, "
          ]
        }
      ]
    },
    {
      "cell_type": "markdown",
      "id": "902a0cb5-4b49-40f2-b285-afd87b760f18",
      "metadata": {
        "id": "902a0cb5-4b49-40f2-b285-afd87b760f18"
      },
      "source": [
        "## 4.5.- Funciones sin parámetros y múltiples parámetros"
      ]
    },
    {
      "cell_type": "markdown",
      "id": "71dd025d-bf4b-4c68-99b5-0cb72614740e",
      "metadata": {
        "id": "71dd025d-bf4b-4c68-99b5-0cb72614740e"
      },
      "source": [
        "def raizcuadra(numero):\n",
        "    \"\"\"Esta función saca la raiz cuadra de un número\"\"\"\n",
        "    return numero ** (1/2)Se acuerdan de la primer funcion que hicimos? Que pasa si la corremos sin parametro?"
      ]
    },
    {
      "cell_type": "code",
      "execution_count": 80,
      "id": "e381d145-b1cb-46c5-99b9-9f83e90964bd",
      "metadata": {
        "id": "e381d145-b1cb-46c5-99b9-9f83e90964bd"
      },
      "outputs": [],
      "source": [
        "def raizc(num=1):\n",
        "  \"\"\"Esta función saca x^2\"\"\"\n",
        "  return num ** (1/2)"
      ]
    },
    {
      "cell_type": "code",
      "source": [
        "raizc()"
      ],
      "metadata": {
        "colab": {
          "base_uri": "https://localhost:8080/"
        },
        "id": "h7Dxi1DNtQzB",
        "outputId": "85009190-045e-40e3-d10d-c57dd1199d08"
      },
      "id": "h7Dxi1DNtQzB",
      "execution_count": 81,
      "outputs": [
        {
          "output_type": "execute_result",
          "data": {
            "text/plain": [
              "1.0"
            ]
          },
          "metadata": {},
          "execution_count": 81
        }
      ]
    },
    {
      "cell_type": "code",
      "execution_count": null,
      "id": "4b642fdf-9360-4196-9a89-c717e6bf1bda",
      "metadata": {
        "id": "4b642fdf-9360-4196-9a89-c717e6bf1bda"
      },
      "outputs": [],
      "source": []
    },
    {
      "cell_type": "markdown",
      "id": "010114c1-509a-4cc1-a388-ca28850d9932",
      "metadata": {
        "id": "010114c1-509a-4cc1-a388-ca28850d9932"
      },
      "source": [
        "Asigna un parametro estandar para evitar este error"
      ]
    },
    {
      "cell_type": "markdown",
      "id": "6c3d4102-a3b3-40de-a916-1df8e54b4a29",
      "metadata": {
        "id": "6c3d4102-a3b3-40de-a916-1df8e54b4a29"
      },
      "source": [
        "También, hay funciones que pueden aceptar una cantidad indefinida de parametros - arma una función llamada promedio_calif que te diga el promedio de una cantidad arbitraria de calificaciones"
      ]
    },
    {
      "cell_type": "code",
      "execution_count": 84,
      "id": "a3fc7b58-87e9-441e-9772-14f961c0f1b4",
      "metadata": {
        "id": "a3fc7b58-87e9-441e-9772-14f961c0f1b4"
      },
      "outputs": [],
      "source": [
        "from itertools import count\n",
        "def promediocalif(*calif):\n",
        "  promedio = sum(calif)/len(calif)\n",
        "  return promedio"
      ]
    },
    {
      "cell_type": "code",
      "execution_count": 85,
      "id": "27b2e996-20e0-4093-99f6-dbf330689d39",
      "metadata": {
        "id": "27b2e996-20e0-4093-99f6-dbf330689d39",
        "colab": {
          "base_uri": "https://localhost:8080/"
        },
        "outputId": "cda2daba-5b55-49f5-9061-f024c3f7e54b"
      },
      "outputs": [
        {
          "output_type": "execute_result",
          "data": {
            "text/plain": [
              "3.5"
            ]
          },
          "metadata": {},
          "execution_count": 85
        }
      ],
      "source": [
        "promediocalif(1,2,3,4,5,6)\n"
      ]
    },
    {
      "cell_type": "markdown",
      "id": "e3f6b2e9-4ed4-4c34-81b1-e60ca1b59bff",
      "metadata": {
        "id": "e3f6b2e9-4ed4-4c34-81b1-e60ca1b59bff"
      },
      "source": [
        "#### Por tu cuenta\n",
        "\n",
        "Arma una función que reciba una cantidad arbitraria de argumentos y calcule el producto de multiplicarlos todos entre ellos"
      ]
    },
    {
      "cell_type": "code",
      "execution_count": 94,
      "id": "1e1d13b9-3cb1-43e5-9cf9-b6da52643a78",
      "metadata": {
        "id": "1e1d13b9-3cb1-43e5-9cf9-b6da52643a78"
      },
      "outputs": [],
      "source": [
        "import math\n",
        "def multi(*m):\n",
        "  n = math.prod(m)\n",
        "  return n"
      ]
    },
    {
      "cell_type": "code",
      "execution_count": 96,
      "id": "0be5568a-6d23-4fcb-bbde-8c8fd120828d",
      "metadata": {
        "id": "0be5568a-6d23-4fcb-bbde-8c8fd120828d",
        "colab": {
          "base_uri": "https://localhost:8080/"
        },
        "outputId": "03f5d578-81f8-4226-8350-c1a7435c6c46"
      },
      "outputs": [
        {
          "output_type": "execute_result",
          "data": {
            "text/plain": [
              "30"
            ]
          },
          "metadata": {},
          "execution_count": 96
        }
      ],
      "source": [
        "multi(2,3,5)"
      ]
    },
    {
      "cell_type": "markdown",
      "id": "6892461b-49af-466b-b947-2e649586b5d5",
      "metadata": {
        "id": "6892461b-49af-466b-b947-2e649586b5d5"
      },
      "source": [
        "## 4.6.- Alcance Local y Global"
      ]
    },
    {
      "cell_type": "markdown",
      "id": "1c759b58-4b0f-4e11-9a61-af3ee94a26e6",
      "metadata": {
        "id": "1c759b58-4b0f-4e11-9a61-af3ee94a26e6"
      },
      "source": [
        "Recordemos nuestra función de raiz cuadrada"
      ]
    },
    {
      "cell_type": "code",
      "execution_count": 97,
      "id": "47693ade-1834-4d6f-b5d2-1582b62d02af",
      "metadata": {
        "id": "47693ade-1834-4d6f-b5d2-1582b62d02af"
      },
      "outputs": [],
      "source": [
        "def raizc(num=1):\n",
        "  \"\"\"Esta función saca x^2\"\"\"\n",
        "  return num ** (1/2)"
      ]
    },
    {
      "cell_type": "code",
      "execution_count": null,
      "id": "0fff8b16-95e3-4138-be6d-4e7296ba2535",
      "metadata": {
        "id": "0fff8b16-95e3-4138-be6d-4e7296ba2535"
      },
      "outputs": [],
      "source": []
    },
    {
      "cell_type": "code",
      "execution_count": null,
      "id": "390db399-8b11-49e4-9d96-09597a3ed6c4",
      "metadata": {
        "id": "390db399-8b11-49e4-9d96-09597a3ed6c4"
      },
      "outputs": [],
      "source": []
    },
    {
      "cell_type": "code",
      "execution_count": null,
      "id": "d8fc0616-47e6-49d1-a9d3-b3509686734c",
      "metadata": {
        "id": "d8fc0616-47e6-49d1-a9d3-b3509686734c"
      },
      "outputs": [],
      "source": []
    },
    {
      "cell_type": "code",
      "execution_count": null,
      "id": "3b536999-dbf9-4b0d-ba9e-ed349124837a",
      "metadata": {
        "id": "3b536999-dbf9-4b0d-ba9e-ed349124837a"
      },
      "outputs": [],
      "source": []
    },
    {
      "cell_type": "code",
      "execution_count": null,
      "id": "9583cbc4-7839-4a44-b549-582437f1e17f",
      "metadata": {
        "id": "9583cbc4-7839-4a44-b549-582437f1e17f"
      },
      "outputs": [],
      "source": []
    },
    {
      "cell_type": "code",
      "execution_count": null,
      "id": "f4dcf9c9-8e0f-41c3-9fe9-ba08e16b6666",
      "metadata": {
        "id": "f4dcf9c9-8e0f-41c3-9fe9-ba08e16b6666"
      },
      "outputs": [],
      "source": []
    },
    {
      "cell_type": "code",
      "execution_count": null,
      "id": "c51d8d48-1463-4ebb-9cc5-87390cffed33",
      "metadata": {
        "id": "c51d8d48-1463-4ebb-9cc5-87390cffed33"
      },
      "outputs": [],
      "source": []
    },
    {
      "cell_type": "code",
      "execution_count": null,
      "id": "2398a2f5-66f1-40a8-9a14-8c01332cc77d",
      "metadata": {
        "id": "2398a2f5-66f1-40a8-9a14-8c01332cc77d"
      },
      "outputs": [],
      "source": []
    },
    {
      "cell_type": "code",
      "execution_count": null,
      "id": "c1821b5d-62f8-4b06-a3cc-51b3a6911f97",
      "metadata": {
        "id": "c1821b5d-62f8-4b06-a3cc-51b3a6911f97"
      },
      "outputs": [],
      "source": []
    },
    {
      "cell_type": "markdown",
      "id": "92d9d3b6-d1ae-480d-9026-b605aa24245f",
      "metadata": {
        "id": "92d9d3b6-d1ae-480d-9026-b605aa24245f"
      },
      "source": [
        "Define la variable aprox pi =3.141 y luego define una función que llame a esta variable de acceso global"
      ]
    },
    {
      "cell_type": "markdown",
      "id": "90a3042c-1f46-4ef1-9f19-9cae0aeae31f",
      "metadata": {
        "id": "90a3042c-1f46-4ef1-9f19-9cae0aeae31f"
      },
      "source": [
        "Intenta modificar aprox pi desde una función - verás que python no lo hace, solo modifica una copia"
      ]
    },
    {
      "cell_type": "markdown",
      "id": "5e3fc9f1-f1c8-419e-a7ad-ad015daa9ada",
      "metadata": {
        "id": "5e3fc9f1-f1c8-419e-a7ad-ad015daa9ada"
      },
      "source": [
        "## 4.7.- El módulo de matemáticas de Python"
      ]
    },
    {
      "cell_type": "markdown",
      "id": "66a15356-6461-4202-a7d0-56526d3c1536",
      "metadata": {
        "id": "66a15356-6461-4202-a7d0-56526d3c1536"
      },
      "source": [
        "Calcula el log10 de 1000"
      ]
    },
    {
      "cell_type": "code",
      "execution_count": 99,
      "id": "d04ec048-5865-4040-a3f2-3b3cbcb1d40a",
      "metadata": {
        "id": "d04ec048-5865-4040-a3f2-3b3cbcb1d40a"
      },
      "outputs": [],
      "source": [
        "import math"
      ]
    },
    {
      "cell_type": "markdown",
      "id": "2db1131d-227b-46fe-aa43-ea83fd7ff1bc",
      "metadata": {
        "id": "2db1131d-227b-46fe-aa43-ea83fd7ff1bc"
      },
      "source": [
        "Importa la librería math"
      ]
    },
    {
      "cell_type": "code",
      "execution_count": 101,
      "id": "4252d1a8-4e52-43d1-a5a4-045def644677",
      "metadata": {
        "id": "4252d1a8-4e52-43d1-a5a4-045def644677",
        "colab": {
          "base_uri": "https://localhost:8080/"
        },
        "outputId": "119a235b-a258-4377-c1ed-e27568b6df5a"
      },
      "outputs": [
        {
          "output_type": "execute_result",
          "data": {
            "text/plain": [
              "2.9999999999999996"
            ]
          },
          "metadata": {},
          "execution_count": 101
        }
      ],
      "source": [
        "math.log(1000,10)"
      ]
    },
    {
      "cell_type": "markdown",
      "id": "4cebaf0a-a127-4a90-971a-a306d39ebc10",
      "metadata": {
        "id": "4cebaf0a-a127-4a90-971a-a306d39ebc10"
      },
      "source": [
        "ahora si, calcula el log10 de 1000"
      ]
    },
    {
      "cell_type": "code",
      "execution_count": null,
      "id": "47bf2d24-fcb4-4907-92e7-af142e2afded",
      "metadata": {
        "id": "47bf2d24-fcb4-4907-92e7-af142e2afded"
      },
      "outputs": [],
      "source": []
    },
    {
      "cell_type": "markdown",
      "id": "1494d2e2-c5f0-4426-bd28-3ccea38d7b09",
      "metadata": {
        "id": "1494d2e2-c5f0-4426-bd28-3ccea38d7b09"
      },
      "source": [
        "## 4.8.- Medidas de tendencia central y Dispersión"
      ]
    },
    {
      "cell_type": "markdown",
      "id": "68b9172a-f029-4f3c-83d1-545ff8937e5a",
      "metadata": {
        "id": "68b9172a-f029-4f3c-83d1-545ff8937e5a"
      },
      "source": [
        "Importa la librería d eestadistica, y crea una lista de calificaciones aleatorias entre 50 y 100"
      ]
    },
    {
      "cell_type": "code",
      "execution_count": 102,
      "id": "06d77b88-6f25-4ee2-81c9-deb91bde85d4",
      "metadata": {
        "id": "06d77b88-6f25-4ee2-81c9-deb91bde85d4"
      },
      "outputs": [],
      "source": [
        "import statistics"
      ]
    },
    {
      "cell_type": "code",
      "execution_count": 108,
      "id": "55722831-d3af-4942-9a4c-fe1a3aac33b9",
      "metadata": {
        "id": "55722831-d3af-4942-9a4c-fe1a3aac33b9"
      },
      "outputs": [],
      "source": [
        "calificaciones = [68,90,80,100,80,75,85,95,70,70]"
      ]
    },
    {
      "cell_type": "code",
      "execution_count": 109,
      "id": "f3a0f859-bc27-47e0-967c-714e6ed4d536",
      "metadata": {
        "id": "f3a0f859-bc27-47e0-967c-714e6ed4d536",
        "colab": {
          "base_uri": "https://localhost:8080/"
        },
        "outputId": "852d7665-ba77-4c20-9aa7-c43134eee6db"
      },
      "outputs": [
        {
          "output_type": "execute_result",
          "data": {
            "text/plain": [
              "81.3"
            ]
          },
          "metadata": {},
          "execution_count": 109
        }
      ],
      "source": [
        "statistics.mean(calificaciones)"
      ]
    },
    {
      "cell_type": "code",
      "execution_count": 110,
      "id": "35c23b1d-ff38-47e4-aea6-cdafea8eef6c",
      "metadata": {
        "id": "35c23b1d-ff38-47e4-aea6-cdafea8eef6c",
        "colab": {
          "base_uri": "https://localhost:8080/"
        },
        "outputId": "016eb440-3055-4090-b7cd-f12c9ddd237d"
      },
      "outputs": [
        {
          "output_type": "execute_result",
          "data": {
            "text/plain": [
              "80.0"
            ]
          },
          "metadata": {},
          "execution_count": 110
        }
      ],
      "source": [
        "statistics.median(calificaciones)"
      ]
    },
    {
      "cell_type": "code",
      "execution_count": 111,
      "id": "f2bfdcbb-f910-4533-8d78-c86b53f5931d",
      "metadata": {
        "id": "f2bfdcbb-f910-4533-8d78-c86b53f5931d",
        "colab": {
          "base_uri": "https://localhost:8080/"
        },
        "outputId": "ff4884e8-6d56-4f31-a5c2-4944f815bd8d"
      },
      "outputs": [
        {
          "output_type": "execute_result",
          "data": {
            "text/plain": [
              "80"
            ]
          },
          "metadata": {},
          "execution_count": 111
        }
      ],
      "source": [
        "statistics.mode(calificaciones)"
      ]
    },
    {
      "cell_type": "code",
      "execution_count": 112,
      "id": "de849887-eed1-4d37-a7ad-16d5ff13afbf",
      "metadata": {
        "id": "de849887-eed1-4d37-a7ad-16d5ff13afbf",
        "colab": {
          "base_uri": "https://localhost:8080/"
        },
        "outputId": "4b941a70-f15a-40a4-c160-3116b0b2258d"
      },
      "outputs": [
        {
          "output_type": "execute_result",
          "data": {
            "text/plain": [
              "32"
            ]
          },
          "metadata": {},
          "execution_count": 112
        }
      ],
      "source": [
        "max(calificaciones) - min(calificaciones)"
      ]
    },
    {
      "cell_type": "code",
      "execution_count": 115,
      "id": "c3604a84-a02c-421c-b5a4-cba89b768407",
      "metadata": {
        "id": "c3604a84-a02c-421c-b5a4-cba89b768407",
        "colab": {
          "base_uri": "https://localhost:8080/"
        },
        "outputId": "efe36d7e-523f-4f50-c23c-f59d18a577ed"
      },
      "outputs": [
        {
          "output_type": "execute_result",
          "data": {
            "text/plain": [
              "11.065963833103538"
            ]
          },
          "metadata": {},
          "execution_count": 115
        }
      ],
      "source": [
        "statistics.stdev(calificaciones)"
      ]
    },
    {
      "cell_type": "code",
      "execution_count": 118,
      "id": "a52ece6f-6db5-475e-aace-e5b49317270a",
      "metadata": {
        "id": "a52ece6f-6db5-475e-aace-e5b49317270a",
        "colab": {
          "base_uri": "https://localhost:8080/"
        },
        "outputId": "1163af56-de43-4722-fd82-5d867db03c76"
      },
      "outputs": [
        {
          "output_type": "execute_result",
          "data": {
            "text/plain": [
              "110.21"
            ]
          },
          "metadata": {},
          "execution_count": 118
        }
      ],
      "source": [
        "statistics.pvariance(calificaciones)"
      ]
    },
    {
      "cell_type": "markdown",
      "id": "77e5a078-1a94-4fc1-acb0-4ae291e3ea0c",
      "metadata": {
        "id": "77e5a078-1a94-4fc1-acb0-4ae291e3ea0c"
      },
      "source": [
        "Calcula las medidas de tendencia central"
      ]
    },
    {
      "cell_type": "markdown",
      "id": "d0b2cda1-016b-4f15-8663-586820f6aae0",
      "metadata": {
        "id": "d0b2cda1-016b-4f15-8663-586820f6aae0"
      },
      "source": [
        "Calcula las medidas de dispersión"
      ]
    },
    {
      "cell_type": "markdown",
      "id": "e55f2a84-65b1-4e86-b4d4-9be69022fdc2",
      "metadata": {
        "id": "e55f2a84-65b1-4e86-b4d4-9be69022fdc2"
      },
      "source": [
        "#### Por tu cuenta\n",
        "\n",
        "Para los numeros del 1 al 20, calcula la varianza y la desviacion estandar - compara con la varianza poblacional y la desviacion estandar poblacional"
      ]
    }
  ],
  "metadata": {
    "kernelspec": {
      "display_name": "Python 3",
      "language": "python",
      "name": "python3"
    },
    "language_info": {
      "codemirror_mode": {
        "name": "ipython",
        "version": 3
      },
      "file_extension": ".py",
      "mimetype": "text/x-python",
      "name": "python",
      "nbconvert_exporter": "python",
      "pygments_lexer": "ipython3",
      "version": "3.8.8"
    },
    "colab": {
      "provenance": []
    }
  },
  "nbformat": 4,
  "nbformat_minor": 5
}