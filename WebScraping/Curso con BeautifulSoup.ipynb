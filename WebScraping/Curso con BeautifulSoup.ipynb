{
 "cells": [
  {
   "cell_type": "markdown",
   "id": "4717da79",
   "metadata": {},
   "source": [
    "## CURSO DE YOUTUBE\n",
    "#### \"https://www.youtube.com/watch?v=yKi9-BfbfzQ&t=3100s\""
   ]
  },
  {
   "cell_type": "markdown",
   "id": "9a7d740e",
   "metadata": {},
   "source": [
    "#### ¿Qué es el WebScraping?\n",
    "Es una forma de recopilar datos mediante un programa automatizado que consulta un servidor web\n",
    "#### LEGALIDAD\n",
    "1-. ¿Lo que estoy haciendo es legal en mi país? ¿Puedo estar afectando al servidor?\n",
    "2.- ¿Es necesario utilizar webscraping o se podría haber resuelto de manera más sencilla?"
   ]
  },
  {
   "cell_type": "markdown",
   "id": "2e5232c0",
   "metadata": {},
   "source": [
    "### API (Intefaz de programación de aplicaciones)\n",
    "Cualquier programa (página) tienen un servicio/software con el que se puede interactuar (API). EL programador nos deja acceder a cierta información. Ej. Spotify nos deja acceder a su API para que podamos navegar, encontrar y escuchar música.\n",
    "A veces no está toda la información, restringen algunas cosas para que no se pueda acceder, ponen restricciones.\n",
    "\n",
    "### API VS Web Scraping\n",
    "|                            Web scraping                            |                                        API                                        |\n",
    "|:------------------------------------------------------------------:|:---------------------------------------------------------------------------------:|\n",
    "| Extraer información de un sitio web usando un programa informático | Proveeer acceso a los datos de una aplicación, sistema opetrativo u otro servicio |\n",
    "\n"
   ]
  },
  {
   "cell_type": "markdown",
   "id": "a8db1389",
   "metadata": {},
   "source": [
    "### Conceptos básicos sobre la web (I)\n",
    "\n",
    "HTTPS: Protocolo seguro de tranferenci de hipertexto que permite a los navegadores comunicarse con los ervidores web (donde se almacenan los sitios)"
   ]
  }
 ],
 "metadata": {
  "colab": {
   "provenance": []
  },
  "kernelspec": {
   "display_name": "Python 3",
   "language": "python",
   "name": "python3"
  },
  "language_info": {
   "codemirror_mode": {
    "name": "ipython",
    "version": 3
   },
   "file_extension": ".py",
   "mimetype": "text/x-python",
   "name": "python",
   "nbconvert_exporter": "python",
   "pygments_lexer": "ipython3",
   "version": "3.8.8"
  }
 },
 "nbformat": 4,
 "nbformat_minor": 5
}
