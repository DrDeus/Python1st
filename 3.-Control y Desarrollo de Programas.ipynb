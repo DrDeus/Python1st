{
  "cells": [
    {
      "cell_type": "markdown",
      "id": "89030283-116c-4976-8e73-b89f8381e6f3",
      "metadata": {
        "id": "89030283-116c-4976-8e73-b89f8381e6f3"
      },
      "source": [
        "# 3.- Control y desarrollo de Programas"
      ]
    },
    {
      "cell_type": "markdown",
      "id": "dbbe85a8-e01d-4b2f-a971-a40e971242ad",
      "metadata": {
        "id": "dbbe85a8-e01d-4b2f-a971-a40e971242ad"
      },
      "source": [
        "## 3.3 Algoritmos"
      ]
    },
    {
      "cell_type": "markdown",
      "id": "1e24fd7e-76ad-4e6f-80db-907c3ddae4d5",
      "metadata": {
        "id": "1e24fd7e-76ad-4e6f-80db-907c3ddae4d5"
      },
      "source": [
        "#### Por tu cuenta\n",
        "\n",
        "Escribe el programa de python que realice las instrucciones en el algoritmo 3.3 de tu manual."
      ]
    },
    {
      "cell_type": "code",
      "execution_count": null,
      "id": "ea7857f1-87e9-4e21-9e39-83ab4bd47a0a",
      "metadata": {
        "id": "ea7857f1-87e9-4e21-9e39-83ab4bd47a0a"
      },
      "outputs": [],
      "source": []
    },
    {
      "cell_type": "markdown",
      "id": "301cb629-91e3-433c-800f-baad2534271e",
      "metadata": {
        "id": "301cb629-91e3-433c-800f-baad2534271e"
      },
      "source": [
        "## 3.7.- Sentencia if"
      ]
    },
    {
      "cell_type": "markdown",
      "id": "410f8e45-c2d2-460f-87f6-9ea211142915",
      "metadata": {
        "id": "410f8e45-c2d2-460f-87f6-9ea211142915"
      },
      "source": [
        "El usuario proporciona su año de nacimiento\n",
        "La cantidad debe leerse como un entero\n",
        "Si la variable 2021 – año de nacimiento, es mayor o igual a 25,\n",
        "el programa debe mostrar: Posible cliente"
      ]
    },
    {
      "cell_type": "markdown",
      "id": "c12a57c1-25fd-422c-b991-689f2af4cc34",
      "metadata": {
        "id": "c12a57c1-25fd-422c-b991-689f2af4cc34"
      },
      "source": [
        "Entonces el código para alguien que dijo nació en 1993 será:"
      ]
    },
    {
      "cell_type": "code",
      "execution_count": null,
      "id": "d20cc775-bacf-4494-baf2-43a2a9bf013a",
      "metadata": {
        "id": "d20cc775-bacf-4494-baf2-43a2a9bf013a"
      },
      "outputs": [],
      "source": []
    },
    {
      "cell_type": "code",
      "execution_count": null,
      "id": "8f859198-f967-4e4a-919d-60bd4baa0af8",
      "metadata": {
        "id": "8f859198-f967-4e4a-919d-60bd4baa0af8"
      },
      "outputs": [],
      "source": []
    },
    {
      "cell_type": "markdown",
      "id": "9c93db3a-9773-40da-8d2f-f3b52be77c1d",
      "metadata": {
        "id": "9c93db3a-9773-40da-8d2f-f3b52be77c1d"
      },
      "source": [
        "Si no se añade indentación... error"
      ]
    },
    {
      "cell_type": "code",
      "execution_count": null,
      "id": "72ed4d90-d281-4c11-aca1-f4f6765b6527",
      "metadata": {
        "id": "72ed4d90-d281-4c11-aca1-f4f6765b6527"
      },
      "outputs": [],
      "source": []
    },
    {
      "cell_type": "markdown",
      "id": "3ffd478d-5723-4baf-9845-10412bf3ff67",
      "metadata": {
        "id": "3ffd478d-5723-4baf-9845-10412bf3ff67"
      },
      "source": [
        "Hay que poner identación en todos lados"
      ]
    },
    {
      "cell_type": "code",
      "execution_count": null,
      "id": "8c0bf0c4-4f38-423c-b6b9-ff116ac9d4eb",
      "metadata": {
        "id": "8c0bf0c4-4f38-423c-b6b9-ff116ac9d4eb"
      },
      "outputs": [],
      "source": []
    },
    {
      "cell_type": "markdown",
      "id": "a74cf5cc-5c5b-459e-bb49-9fb8683d514d",
      "metadata": {
        "id": "a74cf5cc-5c5b-459e-bb49-9fb8683d514d"
      },
      "source": [
        "Todas las expresiones pueden ser interpretadas como falsas y verdaderas"
      ]
    },
    {
      "cell_type": "markdown",
      "id": "c8e79e45-5fc7-4a17-ad46-59d024196579",
      "metadata": {
        "id": "c8e79e45-5fc7-4a17-ad46-59d024196579"
      },
      "source": [
        "#### Por tu cuenta\n",
        "\n",
        "Cambia la fecha de nacimiento al 2002 del primer código"
      ]
    },
    {
      "cell_type": "markdown",
      "id": "d4c29904-0f82-468e-9b25-3bcf5e671341",
      "metadata": {
        "id": "d4c29904-0f82-468e-9b25-3bcf5e671341"
      },
      "source": [
        "## 3.8.- Sentencia if..else, if..elif...else"
      ]
    },
    {
      "cell_type": "markdown",
      "id": "9cd25587-cc7a-4202-b3e5-5e99369a0f6c",
      "metadata": {
        "id": "9cd25587-cc7a-4202-b3e5-5e99369a0f6c"
      },
      "source": [
        "El usuario proporciona su año de nacimiento\n",
        "\n",
        "La cantidad debe leerse como un entero\n",
        "\n",
        "Si la variable 2021 – año de nacimiento, es mayor o igual a 25,\n",
        "\n",
        "el programa debe mostrar: Posible cliente\n",
        "\n",
        "en otro caso,\n",
        "\n",
        "debe mostrar: No es candidato"
      ]
    },
    {
      "cell_type": "markdown",
      "id": "3c80901e-93b7-4c46-8042-a1d135f92142",
      "metadata": {
        "id": "3c80901e-93b7-4c46-8042-a1d135f92142"
      },
      "source": [
        "OK, escribe el código de lo anterior, observa la identación, prueba para 1985"
      ]
    },
    {
      "cell_type": "code",
      "execution_count": null,
      "id": "6fc8df95-ced6-476d-921f-a9c38acbcc1f",
      "metadata": {
        "id": "6fc8df95-ced6-476d-921f-a9c38acbcc1f"
      },
      "outputs": [],
      "source": []
    },
    {
      "cell_type": "code",
      "execution_count": null,
      "id": "e7f0caec-9f05-4808-a009-d1a4348f24aa",
      "metadata": {
        "id": "e7f0caec-9f05-4808-a009-d1a4348f24aa"
      },
      "outputs": [],
      "source": []
    },
    {
      "cell_type": "markdown",
      "id": "eb5474b3-2c69-425d-b284-4b4973d3e4c4",
      "metadata": {
        "id": "eb5474b3-2c69-425d-b284-4b4973d3e4c4"
      },
      "source": [
        "Y ahora para 1999"
      ]
    },
    {
      "cell_type": "code",
      "execution_count": null,
      "id": "a1c7c3e9-c733-414e-a384-0d594a6018aa",
      "metadata": {
        "id": "a1c7c3e9-c733-414e-a384-0d594a6018aa"
      },
      "outputs": [],
      "source": []
    },
    {
      "cell_type": "code",
      "execution_count": null,
      "id": "0b66e4bb-1a5a-48e3-bb29-156982d7d48b",
      "metadata": {
        "id": "0b66e4bb-1a5a-48e3-bb29-156982d7d48b"
      },
      "outputs": [],
      "source": []
    },
    {
      "cell_type": "markdown",
      "id": "b1cb650e-ff5d-4791-819e-3d4f31ae49f5",
      "metadata": {
        "id": "b1cb650e-ff5d-4791-819e-3d4f31ae49f5"
      },
      "source": [
        "Ok, otra alternativa es asignar las acciones a una variable"
      ]
    },
    {
      "cell_type": "code",
      "execution_count": null,
      "id": "91b05b4c-e6ea-487c-8e23-341d6a5c33d2",
      "metadata": {
        "id": "91b05b4c-e6ea-487c-8e23-341d6a5c33d2"
      },
      "outputs": [],
      "source": []
    },
    {
      "cell_type": "code",
      "execution_count": null,
      "id": "2859bcbc-92e4-4729-91f2-a295bdc701f8",
      "metadata": {
        "id": "2859bcbc-92e4-4729-91f2-a295bdc701f8"
      },
      "outputs": [],
      "source": []
    },
    {
      "cell_type": "markdown",
      "id": "06bd7ff2-8017-4580-8cf4-845751e7143f",
      "metadata": {
        "id": "06bd7ff2-8017-4580-8cf4-845751e7143f"
      },
      "source": [
        "Cada condición (if) puede realizar más de una acción - solo recuerda indentar"
      ]
    },
    {
      "cell_type": "code",
      "execution_count": null,
      "id": "6a033eb5-34cd-4a18-8aca-170cce1ee3f3",
      "metadata": {
        "id": "6a033eb5-34cd-4a18-8aca-170cce1ee3f3"
      },
      "outputs": [],
      "source": []
    },
    {
      "cell_type": "markdown",
      "id": "1781ed40-5814-4600-a8b6-2d9e5a816e9a",
      "metadata": {
        "id": "1781ed40-5814-4600-a8b6-2d9e5a816e9a"
      },
      "source": [
        "Por que si dejamos sin identación, siempre se va a ejecutar (y es un mundo de errores)"
      ]
    },
    {
      "cell_type": "code",
      "execution_count": null,
      "id": "7eff9135-4ba5-4585-a359-d99a9846fb2c",
      "metadata": {
        "id": "7eff9135-4ba5-4585-a359-d99a9846fb2c"
      },
      "outputs": [],
      "source": []
    },
    {
      "cell_type": "markdown",
      "id": "45f8933d-a55f-4236-833d-8058d16395e6",
      "metadata": {
        "id": "45f8933d-a55f-4236-833d-8058d16395e6"
      },
      "source": [
        "Si la edad de la persona es mayor o igual a 60\n",
        "Mostrar: Adulto Mayor\n",
        "Si la edad de la persona es mayor o igual a 27\n",
        "Mostrar: Adulto\n",
        "Si la edad de la persona es mayor o igual a 18\n",
        "Mostrar: Joven\n",
        "Si la edad de la persona es mayor o igual a 12\n",
        "Mostrar: Adolescente\n",
        "En otro caso,\n",
        "Mostrar: Infante"
      ]
    },
    {
      "cell_type": "markdown",
      "id": "861e7951-f7d3-467c-9f92-e534069381c6",
      "metadata": {
        "id": "861e7951-f7d3-467c-9f92-e534069381c6"
      },
      "source": [
        "#### Por tu Cuenta\n",
        "\n",
        "Arma un programa basado en el pseudocódigo anterior"
      ]
    },
    {
      "cell_type": "code",
      "execution_count": null,
      "id": "c8fd22ba-77a5-4033-a35a-d00947458df5",
      "metadata": {
        "id": "c8fd22ba-77a5-4033-a35a-d00947458df5"
      },
      "outputs": [],
      "source": []
    },
    {
      "cell_type": "code",
      "execution_count": null,
      "id": "34170795-15d0-4f83-821a-b214b2d0126d",
      "metadata": {
        "id": "34170795-15d0-4f83-821a-b214b2d0126d"
      },
      "outputs": [],
      "source": []
    },
    {
      "cell_type": "code",
      "execution_count": null,
      "id": "c198ea3a-ee73-4d37-95dc-08125ea8ca9d",
      "metadata": {
        "id": "c198ea3a-ee73-4d37-95dc-08125ea8ca9d"
      },
      "outputs": [],
      "source": []
    },
    {
      "cell_type": "markdown",
      "id": "6a350229-d037-49b8-8a10-831c579ac107",
      "metadata": {
        "id": "6a350229-d037-49b8-8a10-831c579ac107"
      },
      "source": [
        "## 3.9.- Sentencia While"
      ]
    },
    {
      "cell_type": "markdown",
      "id": "c774587b-29d9-475f-9912-24ab63b9fc04",
      "metadata": {
        "id": "c774587b-29d9-475f-9912-24ab63b9fc04"
      },
      "source": [
        "Iniciar con potencia=4\n",
        "Mientras que potencia sea menor o igual a 817\n",
        "Potencia=potencia*4"
      ]
    },
    {
      "cell_type": "code",
      "execution_count": 12,
      "id": "aa39f319-6140-457b-9dfe-d65e260ad670",
      "metadata": {
        "id": "aa39f319-6140-457b-9dfe-d65e260ad670"
      },
      "outputs": [],
      "source": [
        "potencia=4\n",
        "contador = 1"
      ]
    },
    {
      "cell_type": "markdown",
      "id": "c91db9d8-93f3-4d3a-a657-9b2b47f3aa50",
      "metadata": {
        "id": "c91db9d8-93f3-4d3a-a657-9b2b47f3aa50"
      },
      "source": [
        "Arma un programa que ejecute el pseudocódigo anterior"
      ]
    },
    {
      "cell_type": "code",
      "execution_count": 14,
      "id": "fc738513-065b-4ede-be43-077f8cb20581",
      "metadata": {
        "colab": {
          "base_uri": "https://localhost:8080/"
        },
        "id": "fc738513-065b-4ede-be43-077f8cb20581",
        "outputId": "c8c5fc23-a9c1-4c7d-d882-509e8633e92f"
      },
      "outputs": [
        {
          "output_type": "stream",
          "name": "stdout",
          "text": [
            "5\n"
          ]
        }
      ],
      "source": [
        "while potencia < 817:\n",
        "    potencia *=4\n",
        "    contador +=1\n",
        "print(contador)"
      ]
    },
    {
      "cell_type": "code",
      "execution_count": 5,
      "id": "609c2a31-d0c2-45bc-a645-4866d3718e8e",
      "metadata": {
        "colab": {
          "base_uri": "https://localhost:8080/"
        },
        "id": "609c2a31-d0c2-45bc-a645-4866d3718e8e",
        "outputId": "3c13bc92-0448-4227-940a-f615ca96faa1"
      },
      "outputs": [
        {
          "output_type": "stream",
          "name": "stdout",
          "text": [
            "1024\n"
          ]
        }
      ],
      "source": [
        "print (potencia)"
      ]
    },
    {
      "cell_type": "code",
      "execution_count": null,
      "id": "c2b6e02b-4a66-4a55-80bb-1fcd2b7b69d4",
      "metadata": {
        "id": "c2b6e02b-4a66-4a55-80bb-1fcd2b7b69d4"
      },
      "outputs": [],
      "source": []
    },
    {
      "cell_type": "markdown",
      "id": "3cc4527c-0db2-489c-b3f4-6824da60fe0d",
      "metadata": {
        "id": "3cc4527c-0db2-489c-b3f4-6824da60fe0d"
      },
      "source": [
        "# 3.10.- Sentencia For"
      ]
    },
    {
      "cell_type": "markdown",
      "id": "faf76ecb-2024-4504-b999-397258a8b613",
      "metadata": {
        "id": "faf76ecb-2024-4504-b999-397258a8b613"
      },
      "source": [
        "Analiza el siguiente ejemplo\n",
        "\n",
        "for caracter in ‘Palabra’:\n",
        "    print(caracter, end=’ ‘)\n",
        "\n"
      ]
    },
    {
      "cell_type": "code",
      "execution_count": 19,
      "id": "2be519f0-0b2f-41cd-889a-324243b1c74e",
      "metadata": {
        "colab": {
          "base_uri": "https://localhost:8080/"
        },
        "id": "2be519f0-0b2f-41cd-889a-324243b1c74e",
        "outputId": "f776ce6b-ffeb-4a8d-db88-73b64380032d"
      },
      "outputs": [
        {
          "output_type": "stream",
          "name": "stdout",
          "text": [
            "P a l a b r a "
          ]
        }
      ],
      "source": [
        "for c in \"Palabra\":\n",
        "  print(c, end= \" \")"
      ]
    },
    {
      "cell_type": "markdown",
      "id": "836a856c-ded9-42f9-b816-ca57889fdbc2",
      "metadata": {
        "id": "836a856c-ded9-42f9-b816-ca57889fdbc2"
      },
      "source": [
        "Arma un programa que te calcule el factorial de algún número dado"
      ]
    },
    {
      "cell_type": "code",
      "execution_count": 57,
      "id": "7269cb54-02c7-4b6f-b400-bc8b9d573d01",
      "metadata": {
        "colab": {
          "base_uri": "https://localhost:8080/"
        },
        "id": "7269cb54-02c7-4b6f-b400-bc8b9d573d01",
        "outputId": "ad20385d-f4e2-4d0d-ce19-ce2001c355e1"
      },
      "outputs": [
        {
          "output_type": "execute_result",
          "data": {
            "text/plain": [
              "720"
            ]
          },
          "metadata": {},
          "execution_count": 57
        }
      ],
      "source": [
        "n = 6\n",
        "m = 1\n",
        "for i in range (1,n+1):\n",
        "  m *= i\n",
        "m"
      ]
    },
    {
      "cell_type": "markdown",
      "id": "48fe5311-9076-44f6-8ef0-59ba0c09c9ea",
      "metadata": {
        "id": "48fe5311-9076-44f6-8ef0-59ba0c09c9ea"
      },
      "source": [
        "Conoce el operador *= que te permite guardar el resultado en si mismo"
      ]
    },
    {
      "cell_type": "code",
      "execution_count": null,
      "id": "2e627ca5-8755-455c-be36-b4df3deae649",
      "metadata": {
        "id": "2e627ca5-8755-455c-be36-b4df3deae649"
      },
      "outputs": [],
      "source": []
    },
    {
      "cell_type": "markdown",
      "id": "f8ee4c02-8084-4b20-beb0-ffddf7f9e8a4",
      "metadata": {
        "id": "f8ee4c02-8084-4b20-beb0-ffddf7f9e8a4"
      },
      "source": [
        "Podemos usar range si la suceción de elementos en for es una suscesión ordenada"
      ]
    },
    {
      "cell_type": "code",
      "execution_count": 1,
      "id": "016bb41a-99fd-4aee-aad0-ee994eb082cc",
      "metadata": {
        "colab": {
          "base_uri": "https://localhost:8080/"
        },
        "id": "016bb41a-99fd-4aee-aad0-ee994eb082cc",
        "outputId": "ddd4ac82-7332-437c-99ad-333ad44b3361"
      },
      "outputs": [
        {
          "output_type": "stream",
          "name": "stdout",
          "text": [
            "0, 1, 2, 3, 4, 5, 6, 7, "
          ]
        }
      ],
      "source": [
        "for i in range(8):\n",
        "  print(i, end= \", \")"
      ]
    },
    {
      "cell_type": "markdown",
      "id": "89526fc0-663e-405b-9b71-4ad0c5eb77d6",
      "metadata": {
        "id": "89526fc0-663e-405b-9b71-4ad0c5eb77d6"
      },
      "source": [
        "Si necesitas salir del ciclo usa Break.\n",
        "\n",
        "Haz un programa que para todos los números del 1-10, muestre el número en pantalla... peeeero al llegar al 8 haga break."
      ]
    },
    {
      "cell_type": "code",
      "execution_count": 3,
      "id": "7b739677-ee9b-4511-aae4-e295dcf24242",
      "metadata": {
        "colab": {
          "base_uri": "https://localhost:8080/"
        },
        "id": "7b739677-ee9b-4511-aae4-e295dcf24242",
        "outputId": "2e0733df-eae0-4081-cbb3-94b19e486f66"
      },
      "outputs": [
        {
          "output_type": "stream",
          "name": "stdout",
          "text": [
            "1\n",
            "2\n",
            "3\n",
            "4\n",
            "5\n",
            "6\n",
            "7\n",
            "8\n"
          ]
        }
      ],
      "source": [
        "for i in range (1,10):\n",
        "  print(i)\n",
        "  if i == 8:\n",
        "    break"
      ]
    },
    {
      "cell_type": "markdown",
      "id": "9ec03229-a673-4e57-be0a-44708327b956",
      "metadata": {
        "id": "9ec03229-a673-4e57-be0a-44708327b956"
      },
      "source": [
        "#### Por tu cuenta\n",
        "\n",
        "Usa for para calcular el consumo promedio de los siguientes clientes\n",
        "\n",
        "[130,85,210,45,153,78.5,264.5,94]\n",
        "\n",
        "Esta lista te muestra el consumo de cada cliente"
      ]
    },
    {
      "cell_type": "code",
      "execution_count": 16,
      "id": "793cbe1c-3303-4284-a5f9-da91d55cbcc6",
      "metadata": {
        "colab": {
          "base_uri": "https://localhost:8080/"
        },
        "id": "793cbe1c-3303-4284-a5f9-da91d55cbcc6",
        "outputId": "ac6dc0aa-97e9-428a-9ffb-fd5af44ee6f6"
      },
      "outputs": [
        {
          "output_type": "execute_result",
          "data": {
            "text/plain": [
              "132.5"
            ]
          },
          "metadata": {},
          "execution_count": 16
        }
      ],
      "source": [
        "a = [130,85,210,45,153,78.5,264.5,94]\n",
        "contador = 0\n",
        "suma=0\n",
        "for i in a:\n",
        "  suma += i\n",
        "  contador+=1\n",
        "\n",
        "promedio = suma/contador\n",
        "promedio"
      ]
    },
    {
      "cell_type": "markdown",
      "id": "4dfbadfd-4552-40bb-be14-f0a06f6cc589",
      "metadata": {
        "id": "4dfbadfd-4552-40bb-be14-f0a06f6cc589"
      },
      "source": [
        "#### Por tu cuenta\n",
        "\n",
        "usa for para calcular el interes compuesto de una persona que invierte $10,000 en una cuenta que rinde el 8% de intereses. Supon que la persona reinvierte los intereses. Calcula la cantida ddel dinero al final de 10 años"
      ]
    },
    {
      "cell_type": "code",
      "execution_count": 22,
      "id": "6ae87f0a-c126-4686-a68a-718750cd6cb4",
      "metadata": {
        "colab": {
          "base_uri": "https://localhost:8080/"
        },
        "id": "6ae87f0a-c126-4686-a68a-718750cd6cb4",
        "outputId": "af95e013-0fc8-48ee-d463-0f5b5d9a2b0a"
      },
      "outputs": [
        {
          "output_type": "stream",
          "name": "stdout",
          "text": [
            "10800 2\n",
            "11664 2\n",
            "12597 2\n",
            "13605 2\n",
            "14693 2\n",
            "15869 2\n",
            "17138 2\n",
            "18509 2\n",
            "19990 2\n"
          ]
        },
        {
          "output_type": "execute_result",
          "data": {
            "text/plain": [
              "19990.05"
            ]
          },
          "metadata": {},
          "execution_count": 22
        }
      ],
      "source": [
        "monto=10000\n",
        "interes=.08\n",
        "año = 10\n",
        "for i in range(1, 10):\n",
        "  monto +=  monto *interes\n",
        "  print(round(monto),2)\n",
        "\n",
        "round(monto,2)\n"
      ]
    },
    {
      "cell_type": "markdown",
      "id": "f70e0474-b78c-41e6-b4bf-b7d406afc18e",
      "metadata": {
        "id": "f70e0474-b78c-41e6-b4bf-b7d406afc18e"
      },
      "source": [
        "#### Por tu cuenta\n",
        "\n",
        "En una tienda de autoservicio hay un promotor en la sección de productos lácteos. La empresa\n",
        "para la que trabaja, le otorga un premio económico si rebasa $200 de ventas (venta meta) por\n",
        "cliente. La empresa cuenta con un registro en donde están marcadas las ventas de 8 clientes que\n",
        "adquirieron algunos de los productos de la marca. Por cada cliente que rebasó la cantidad meta se\n",
        "escribe 1, y si no la rebasa se escribe 2. Si número de clientes que rebasan la venta meta es más de\n",
        "la mitad, se le otorga el premio al promotor. Se requiere de un programa que señale si al promotor\n",
        "se le debe asignar el premio económico"
      ]
    },
    {
      "cell_type": "code",
      "execution_count": 31,
      "id": "709467af-aa12-4e2b-a6f9-9ddbf3dc5cf4",
      "metadata": {
        "colab": {
          "base_uri": "https://localhost:8080/"
        },
        "id": "709467af-aa12-4e2b-a6f9-9ddbf3dc5cf4",
        "outputId": "e113b0d1-da71-49e9-f04d-7e943e07bc33"
      },
      "outputs": [
        {
          "output_type": "stream",
          "name": "stdout",
          "text": [
            "243\n",
            "296\n",
            "296\n",
            "257\n",
            "197\n",
            "194\n",
            "241\n",
            "Felicidade, alcanzaste la meta\n"
          ]
        }
      ],
      "source": [
        "import numpy as np\n",
        "\n",
        "ventaMeta=200\n",
        "n = 8\n",
        "nMetaAlcanzada = 0\n",
        "nMetaNoAlcanzada = 0\n",
        "\n",
        "for i in range(1,n):\n",
        "  venta = np.random.randint(180,300)\n",
        "  print(venta)\n",
        "  if venta > ventaMeta:\n",
        "    nMetaAlcanzada+=1\n",
        "  else:\n",
        "    nMetaNoAlcanzada+=1\n",
        "\n",
        "if nMetaAlcanzada > 4:\n",
        "  print(\"Felicidade, alcanzaste la meta\")\n",
        "else:\n",
        "    print(\"Lo siento, échale más ganas para la próxima\")"
      ]
    },
    {
      "cell_type": "markdown",
      "id": "f8d3b5e3-6330-4c14-b58a-0cca551d2859",
      "metadata": {
        "id": "f8d3b5e3-6330-4c14-b58a-0cca551d2859"
      },
      "source": [
        "## 3.11.- Operadores Booleanos"
      ]
    },
    {
      "cell_type": "markdown",
      "id": "6c08d764-a3d9-4a66-b302-3d2b6ea26c9a",
      "metadata": {
        "id": "6c08d764-a3d9-4a66-b302-3d2b6ea26c9a"
      },
      "source": [
        "Arma un programa que revise si un cliente registró su mail Y que su salario mensual sea mayor a 20,000 pesos para poder declararlo como posible cliente"
      ]
    },
    {
      "cell_type": "code",
      "execution_count": 43,
      "id": "5a56ad9a-8461-4b37-9822-ae169684fd99",
      "metadata": {
        "colab": {
          "base_uri": "https://localhost:8080/"
        },
        "id": "5a56ad9a-8461-4b37-9822-ae169684fd99",
        "outputId": "8bac5d88-8697-4680-f4c2-44b6c6c68a40"
      },
      "outputs": [
        {
          "output_type": "stream",
          "name": "stdout",
          "text": [
            "Registra tu mailf\n",
            "12365\n",
            "No puede ser cliente\n"
          ]
        }
      ],
      "source": [
        "import numpy as np\n",
        "\n",
        "mail = input(\"Registra tu mail\")\n",
        "salario = np.random.randint(10000,30000)\n",
        "print(salario)\n",
        "if mail != \"\" and salario >= 20000:\n",
        "  print(\"Posible Cliente\")\n",
        "else:\n",
        "  print(\"No puede ser cliente\")"
      ]
    },
    {
      "cell_type": "markdown",
      "id": "ef7df93f-b65c-44a8-8003-0eab0051c033",
      "metadata": {
        "id": "ef7df93f-b65c-44a8-8003-0eab0051c033"
      },
      "source": [
        "Arma un programa que revise si un posible candidato laboral va tiene titulo o al menos 5 años de experiencia laboral para poder llamarlo a entrevista"
      ]
    },
    {
      "cell_type": "code",
      "execution_count": 53,
      "id": "53f119f7-01eb-46d9-b9c8-be1eb9ecdcb2",
      "metadata": {
        "colab": {
          "base_uri": "https://localhost:8080/"
        },
        "id": "53f119f7-01eb-46d9-b9c8-be1eb9ecdcb2",
        "outputId": "a1e03e18-c3a4-4321-b248-7ad6ec5f623a"
      },
      "outputs": [
        {
          "output_type": "stream",
          "name": "stdout",
          "text": [
            "¿Tienes título?\n",
            "Si eres posible candidato\n"
          ]
        }
      ],
      "source": [
        "import numpy as np\n",
        "\n",
        "tit = input(\"¿Tienes título?\")\n",
        "exp= np.random.randint(1,9)\n",
        "\n",
        "if tit == \"si\" or exp>=5:\n",
        "  print(\"Si eres posible candidato\")\n",
        "else:\n",
        "  print(\"No eres posible candidato.\" + \" Tienes \" + str(exp) + \" años de experiencia.\")"
      ]
    }
  ],
  "metadata": {
    "kernelspec": {
      "display_name": "Python 3",
      "language": "python",
      "name": "python3"
    },
    "language_info": {
      "codemirror_mode": {
        "name": "ipython",
        "version": 3
      },
      "file_extension": ".py",
      "mimetype": "text/x-python",
      "name": "python",
      "nbconvert_exporter": "python",
      "pygments_lexer": "ipython3",
      "version": "3.8.8"
    },
    "colab": {
      "provenance": []
    }
  },
  "nbformat": 4,
  "nbformat_minor": 5
}